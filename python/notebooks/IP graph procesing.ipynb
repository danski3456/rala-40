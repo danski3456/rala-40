{
 "cells": [
  {
   "cell_type": "code",
   "execution_count": 1,
   "metadata": {
    "collapsed": true
   },
   "outputs": [],
   "source": [
    "%matplotlib inline\n",
    "from __future__ import division\n",
    "import networkx as nx\n",
    "import ipaddress\n",
    "import numpy as np\n",
    "import glob\n",
    "import collections\n",
    "import seaborn as sns\n",
    "import pandas as pd\n",
    "import powerlaw\n",
    "import matplotlib.pyplot as plt\n",
    "from caida_to_graph import get_pytree"
   ]
  },
  {
   "cell_type": "code",
   "execution_count": 1,
   "metadata": {
    "collapsed": true
   },
   "outputs": [],
   "source": [
    "default_dir = '../../home/app/data/'\n",
    "routeviews_file"
   ]
  },
  {
   "cell_type": "code",
   "execution_count": 2,
   "metadata": {
    "collapsed": true
   },
   "outputs": [],
   "source": [
    "def ip_to_as_graph(G):\n",
    "    as_edges = []\n",
    "    count = 0\n",
    "    for i,(v1,v2) in enumerate(G.edges()):\n",
    "        try:\n",
    "            asn1 = pyt.get(str(v1))\n",
    "            asn2 = pyt.get(str(v2))\n",
    "            if asn1 is not None and asn2 is not None:\n",
    "                as_edges.append((asn1,asn2))\n",
    "            else:\n",
    "                count =  count + 1\n",
    "        except:\n",
    "            pass\n",
    "    G1 = nx.Graph()\n",
    "    G1.add_edges_from(as_edges)\n",
    "    print count\n",
    "    return G1"
   ]
  },
  {
   "cell_type": "markdown",
   "metadata": {},
   "source": [
    "## Load asn country\n",
    "\n",
    "Information extracted from https://www.cc2asn.com/#http"
   ]
  },
  {
   "cell_type": "code",
   "execution_count": 3,
   "metadata": {
    "collapsed": true
   },
   "outputs": [],
   "source": [
    "file_list = glob.glob(default_dir+'asn/*_asn')"
   ]
  },
  {
   "cell_type": "code",
   "execution_count": 4,
   "metadata": {
    "collapsed": true
   },
   "outputs": [],
   "source": [
    "asn_cc = {}\n",
    "for fi in file_list:\n",
    "    with open(fi, \"r\") as f:\n",
    "        for i, l in enumerate(f):\n",
    "            asn_cc[int(l[2:])] = fi.split(\"_\")[0]"
   ]
  },
  {
   "cell_type": "markdown",
   "metadata": {},
   "source": [
    "### Load prefix tree\n",
    "\n",
    "Information extracted from https://www.caida.org/data/routing/routeviews-prefix2as.xml"
   ]
  },
  {
   "cell_type": "code",
   "execution_count": 5,
   "metadata": {
    "collapsed": true
   },
   "outputs": [],
   "source": [
    "pyt = get_pytree(default_dir + \"routeviews-rv6-20170908-1200.pfx2as\")"
   ]
  },
  {
   "cell_type": "markdown",
   "metadata": {},
   "source": [
    "## Get prefixes in latam"
   ]
  },
  {
   "cell_type": "code",
   "execution_count": 6,
   "metadata": {
    "collapsed": true
   },
   "outputs": [],
   "source": [
    "with open(default_dir + \"routeviews-rv6-20170908-1200.pfx2as\", \"r\") as f:\n",
    "    pref = []\n",
    "    for l in f:\n",
    "        a, b, c = l.split(\"\\t\")\n",
    "        ntw = ipaddress.ip_network(\"/\".join([a,b]).decode(\"unicode-escape\"))\n",
    "        pref.append((ntw,c))"
   ]
  },
  {
   "cell_type": "code",
   "execution_count": 7,
   "metadata": {},
   "outputs": [
    {
     "name": "stdout",
     "output_type": "stream",
     "text": [
      "46039\n"
     ]
    }
   ],
   "source": [
    "print len(pref)"
   ]
  },
  {
   "cell_type": "code",
   "execution_count": 8,
   "metadata": {
    "collapsed": true
   },
   "outputs": [],
   "source": [
    "lat1 = ipaddress.ip_network(u\"2800::/12\")\n",
    "lat2 = ipaddress.ip_network(u\"2001:1200::/23\")"
   ]
  },
  {
   "cell_type": "code",
   "execution_count": 9,
   "metadata": {},
   "outputs": [
    {
     "data": {
      "text/plain": [
       "6428"
      ]
     },
     "execution_count": 9,
     "metadata": {},
     "output_type": "execute_result"
    }
   ],
   "source": [
    "lat_pref = []\n",
    "for x in pref:\n",
    "    if lat1.overlaps(x[0]) or lat2.overlaps(x[0]):\n",
    "        lat_pref.append(x)\n",
    "len(lat_pref)"
   ]
  },
  {
   "cell_type": "code",
   "execution_count": 10,
   "metadata": {},
   "outputs": [
    {
     "data": {
      "text/plain": [
       "2317"
      ]
     },
     "execution_count": 10,
     "metadata": {},
     "output_type": "execute_result"
    }
   ],
   "source": [
    "latam_asn = set( int(asn.strip()) for ntw, asn in lat_pref if \"_\" not in asn) # Only numbers as a set\n",
    "len(latam_asn)"
   ]
  },
  {
   "cell_type": "markdown",
   "metadata": {},
   "source": [
    "## ASN covered in targets of cuca"
   ]
  },
  {
   "cell_type": "code",
   "execution_count": 11,
   "metadata": {
    "collapsed": true
   },
   "outputs": [],
   "source": [
    "with open(\"targets.ip\", \"r\") as f: targets = [x.strip() for x in f.readlines()]"
   ]
  },
  {
   "cell_type": "code",
   "execution_count": 12,
   "metadata": {
    "collapsed": true
   },
   "outputs": [],
   "source": [
    "used_asn_cuca = set()\n",
    "for x in targets:\n",
    "    try:\n",
    "        asn = pyt.get(x)\n",
    "        used_asn_cuca.add(asn)\n",
    "    except:\n",
    "        pass"
   ]
  },
  {
   "cell_type": "code",
   "execution_count": 13,
   "metadata": {},
   "outputs": [
    {
     "data": {
      "text/plain": [
       "1309"
      ]
     },
     "execution_count": 13,
     "metadata": {},
     "output_type": "execute_result"
    }
   ],
   "source": [
    "len(used_asn_cuca)"
   ]
  },
  {
   "cell_type": "code",
   "execution_count": 14,
   "metadata": {},
   "outputs": [
    {
     "name": "stdout",
     "output_type": "stream",
     "text": [
      "0.564523090203\n"
     ]
    }
   ],
   "source": [
    "\"\"\"\n",
    "What porcentage of the available latam asn where targeted\n",
    "\"\"\"\n",
    "intersection_cuca_all = used_asn_cuca.intersection(latam_asn)\n",
    "print len(intersection_cuca_all) / len(latam_asn)"
   ]
  },
  {
   "cell_type": "markdown",
   "metadata": {},
   "source": [
    "## ASN covered in targets of caida"
   ]
  },
  {
   "cell_type": "code",
   "execution_count": 15,
   "metadata": {
    "collapsed": true
   },
   "outputs": [],
   "source": [
    "with open('all_proc.csv', 'r') as f: caida_targets = [x.strip() for x in f.readlines() if x[0]==\"H\"]"
   ]
  },
  {
   "cell_type": "code",
   "execution_count": 16,
   "metadata": {
    "collapsed": true
   },
   "outputs": [],
   "source": [
    "caida_t = [x.split(\",\")[2] for x in caida_targets]"
   ]
  },
  {
   "cell_type": "code",
   "execution_count": 18,
   "metadata": {
    "collapsed": true
   },
   "outputs": [],
   "source": [
    "used_asn_caida = set()\n",
    "for x in caida_t:\n",
    "    try:\n",
    "        asn = pyt.get(x)\n",
    "        used_asn_caida.add(asn)\n",
    "    except:\n",
    "        pass"
   ]
  },
  {
   "cell_type": "code",
   "execution_count": 19,
   "metadata": {
    "scrolled": true
   },
   "outputs": [
    {
     "name": "stdout",
     "output_type": "stream",
     "text": [
      "0.987483815278\n"
     ]
    }
   ],
   "source": [
    "\"\"\"\n",
    "What porcentage of the available latam asn where targeted\n",
    "\"\"\"\n",
    "intersection_caida_all = used_asn_caida.intersection(latam_asn)\n",
    "print len(intersection_caida_all) / len(latam_asn)"
   ]
  },
  {
   "cell_type": "markdown",
   "metadata": {},
   "source": [
    "## Load caida topology"
   ]
  },
  {
   "cell_type": "code",
   "execution_count": 20,
   "metadata": {
    "collapsed": true
   },
   "outputs": [],
   "source": [
    "with open(\"caida2.links\", \"r\") as f: G_caida = nx.read_edgelist(f, delimiter=\",\")"
   ]
  },
  {
   "cell_type": "markdown",
   "metadata": {},
   "source": [
    "### Basic statistics"
   ]
  },
  {
   "cell_type": "code",
   "execution_count": 21,
   "metadata": {},
   "outputs": [
    {
     "name": "stdout",
     "output_type": "stream",
     "text": [
      "Edges:  5263146\n",
      "Nodes:  4651387\n"
     ]
    }
   ],
   "source": [
    "print 'Edges: ',G_caida.number_of_edges()\n",
    "print 'Nodes: ',G_caida.number_of_nodes()"
   ]
  },
  {
   "cell_type": "markdown",
   "metadata": {},
   "source": [
    "### Make subgraph only involving LACNIC nodes and neighbours"
   ]
  },
  {
   "cell_type": "code",
   "execution_count": 22,
   "metadata": {
    "collapsed": true
   },
   "outputs": [],
   "source": [
    "subset_caida = set()\n",
    "for i,x in enumerate(G_caida.nodes_iter()):\n",
    "    aux = ipaddress.ip_address(x)\n",
    "    if aux in lat1 or aux in lat2:\n",
    "        subset_caida.add(x)\n",
    "        subset_caida.update(G_caida.neighbors(x))\n",
    "\n",
    "H_caida = G_caida.subgraph(subset_caida)"
   ]
  },
  {
   "cell_type": "code",
   "execution_count": 23,
   "metadata": {},
   "outputs": [
    {
     "name": "stdout",
     "output_type": "stream",
     "text": [
      "Edges:  719528\n",
      "Nodes:  653691\n"
     ]
    }
   ],
   "source": [
    "print 'Edges: ',H_caida.number_of_edges()\n",
    "print 'Nodes: ',H_caida.number_of_nodes()"
   ]
  },
  {
   "cell_type": "markdown",
   "metadata": {},
   "source": [
    "### Make AS caida"
   ]
  },
  {
   "cell_type": "code",
   "execution_count": 28,
   "metadata": {},
   "outputs": [
    {
     "name": "stdout",
     "output_type": "stream",
     "text": [
      "563594\n",
      "Edges:  88903\n",
      "Nodes:  13681\n"
     ]
    }
   ],
   "source": [
    "G_as_caida = ip_to_as_graph(G_caida)\n",
    "print 'Edges: ', G_as_caida.number_of_edges()\n",
    "print 'Nodes: ', G_as_caida.number_of_nodes()"
   ]
  },
  {
   "cell_type": "markdown",
   "metadata": {},
   "source": [
    "#### All properties to a table"
   ]
  },
  {
   "cell_type": "code",
   "execution_count": 77,
   "metadata": {},
   "outputs": [
    {
     "name": "stdout",
     "output_type": "stream",
     "text": [
      "\\begin{tabular}{lrrrr}\n",
      "\\toprule\n",
      "{} &  $| V |$ &  $| E |$ &  $\\overline{c}$ &   $\\gamma$ \\\\\n",
      "\\midrule\n",
      "0 &  4651387 &  5263146 &        0.001686 &   2.330830 \\\\\n",
      "1 &   653691 &   719528 &        0.002035 &  16.059418 \\\\\n",
      "2 &    13681 &    88903 &        0.683887 &   2.765026 \\\\\n",
      "\\bottomrule\n",
      "\\end{tabular}\n",
      "\n"
     ]
    }
   ],
   "source": [
    "all_caida = [G_caida, H_caida, G_as_caida]\n",
    "data = []\n",
    "for G in all_caida:\n",
    "    data_i = []\n",
    "    data_i.append(G.number_of_nodes())\n",
    "    data_i.append(G.number_of_edges())\n",
    "    data_i.append(nx.average_clustering(G))\n",
    "    fitted = powerlaw.Fit(G.degree().values(),verbose=False)\n",
    "    data_i.append(fitted.alpha)\n",
    "    data.append(data_i)\n",
    "\n",
    "df = pd.DataFrame(data)\n",
    "df.columns = ['$| V |$', '$| E |$', '$\\overline{c}$', '$\\gamma$']\n",
    "print df.to_latex(escape=False)"
   ]
  },
  {
   "cell_type": "code",
   "execution_count": 80,
   "metadata": {
    "collapsed": true
   },
   "outputs": [],
   "source": [
    "fitted  = powerlaw.Fit(H_caida.degree().values(),verbose=False)"
   ]
  },
  {
   "cell_type": "code",
   "execution_count": 84,
   "metadata": {
    "collapsed": true
   },
   "outputs": [],
   "source": [
    "fitted2  = powerlaw.Fit(G_caida.degree().values(),verbose=False)"
   ]
  },
  {
   "cell_type": "code",
   "execution_count": 85,
   "metadata": {},
   "outputs": [
    {
     "data": {
      "text/plain": [
       "0.03077526825563897"
      ]
     },
     "execution_count": 85,
     "metadata": {},
     "output_type": "execute_result"
    }
   ],
   "source": [
    "fitted2."
   ]
  },
  {
   "cell_type": "code",
   "execution_count": 99,
   "metadata": {
    "collapsed": true
   },
   "outputs": [],
   "source": [
    "R, p = fitted2.distribution_compare('power_law', 'lognormal_positive')"
   ]
  },
  {
   "cell_type": "code",
   "execution_count": 96,
   "metadata": {},
   "outputs": [
    {
     "name": "stdout",
     "output_type": "stream",
     "text": [
      "7.0\n"
     ]
    }
   ],
   "source": [
    "fitted_as  = powerlaw.Fit(G_as_caida.degree().values(),verbose=False)\n",
    "print fitted_as.xmin"
   ]
  },
  {
   "cell_type": "code",
   "execution_count": 98,
   "metadata": {},
   "outputs": [
    {
     "name": "stdout",
     "output_type": "stream",
     "text": [
      "303.797450496 1.70846399724e-24\n"
     ]
    }
   ],
   "source": [
    "R, p = fitted_as.distribution_compare('power_law', 'lognormal_positive')\n",
    "print R,p"
   ]
  },
  {
   "cell_type": "code",
   "execution_count": 100,
   "metadata": {},
   "outputs": [
    {
     "name": "stdout",
     "output_type": "stream",
     "text": [
      "2.03966627987 0.536269138624\n"
     ]
    }
   ],
   "source": [
    "print R,p"
   ]
  },
  {
   "cell_type": "code",
   "execution_count": 83,
   "metadata": {
    "scrolled": true
   },
   "outputs": [
    {
     "data": {
      "text/plain": [
       "0.018626100257498765"
      ]
     },
     "execution_count": 83,
     "metadata": {},
     "output_type": "execute_result"
    }
   ],
   "source": [
    "fitted.sigma"
   ]
  },
  {
   "cell_type": "code",
   "execution_count": 89,
   "metadata": {},
   "outputs": [
    {
     "data": {
      "text/plain": [
       "<matplotlib.axes._subplots.AxesSubplot at 0x7ff3b6798ad0>"
      ]
     },
     "execution_count": 89,
     "metadata": {},
     "output_type": "execute_result"
    },
    {
     "data": {
      "image/png": "[encoded data removed]",
      "text/plain": [
       "<matplotlib.figure.Figure at 0x7ff3b5d87410>"
      ]
     },
     "metadata": {},
     "output_type": "display_data"
    }
   ],
   "source": [
    "fitted.plot_pdf()"
   ]
  },
  {
   "cell_type": "markdown",
   "metadata": {},
   "source": [
    "## Load cuca topology"
   ]
  },
  {
   "cell_type": "code",
   "execution_count": 40,
   "metadata": {
    "collapsed": true
   },
   "outputs": [],
   "source": [
    "with open(\"sample2.links\", \"r\") as f: G_cuca = nx.read_edgelist(f, delimiter=\",\")"
   ]
  },
  {
   "cell_type": "markdown",
   "metadata": {},
   "source": [
    "Basic statistics"
   ]
  },
  {
   "cell_type": "code",
   "execution_count": 41,
   "metadata": {},
   "outputs": [
    {
     "name": "stdout",
     "output_type": "stream",
     "text": [
      "Edges:  165374\n",
      "Nodes:  37905\n"
     ]
    }
   ],
   "source": [
    "print 'Edges: ',G_cuca.number_of_edges()\n",
    "print 'Nodes: ',G_cuca.number_of_nodes()"
   ]
  },
  {
   "cell_type": "markdown",
   "metadata": {},
   "source": [
    "### Make subgraph only involving LACNIC nodes and neighbours"
   ]
  },
  {
   "cell_type": "code",
   "execution_count": 42,
   "metadata": {
    "collapsed": true
   },
   "outputs": [],
   "source": [
    "subset_cuca = set()\n",
    "for i,x in enumerate(G_cuca.nodes_iter()):\n",
    "    aux = ipaddress.ip_address(x)\n",
    "    if aux in lat1 or aux in lat2:\n",
    "        subset_cuca.add(x)\n",
    "        subset_cuca.update(G_cuca.neighbors(x))\n",
    "\n",
    "H_cuca = G_cuca.subgraph(subset_cuca)"
   ]
  },
  {
   "cell_type": "markdown",
   "metadata": {},
   "source": [
    "Basic statistics"
   ]
  },
  {
   "cell_type": "code",
   "execution_count": 43,
   "metadata": {},
   "outputs": [
    {
     "name": "stdout",
     "output_type": "stream",
     "text": [
      "Edges:  157917\n",
      "Nodes:  35625\n"
     ]
    }
   ],
   "source": [
    "print 'Edges: ',H_cuca.number_of_edges()\n",
    "print 'Nodes: ',H_cuca.number_of_nodes()"
   ]
  },
  {
   "cell_type": "markdown",
   "metadata": {},
   "source": [
    "### Make AS graph"
   ]
  },
  {
   "cell_type": "code",
   "execution_count": 44,
   "metadata": {},
   "outputs": [
    {
     "name": "stdout",
     "output_type": "stream",
     "text": [
      "21176\n",
      "Edges:  11412\n",
      "Nodes:  1386\n"
     ]
    }
   ],
   "source": [
    "G_as_cuca = ip_to_as_graph(G_cuca)\n",
    "print 'Edges: ', G_as_cuca.number_of_edges()\n",
    "print 'Nodes: ', G_as_cuca.number_of_nodes()"
   ]
  },
  {
   "cell_type": "markdown",
   "metadata": {},
   "source": [
    "### All properties to table"
   ]
  },
  {
   "cell_type": "code",
   "execution_count": 75,
   "metadata": {
    "collapsed": true
   },
   "outputs": [],
   "source": [
    "all_cuca = [G_cuca, H_cuca, G_as_cuca]\n",
    "data = []\n",
    "for G in all_cuca:\n",
    "    data_i = []\n",
    "    data_i.append(G.number_of_nodes())\n",
    "    data_i.append(G.number_of_edges())\n",
    "    data_i.append(nx.average_clustering(G))\n",
    "    fitted = powerlaw.Fit(G.degree().values(),verbose=False)\n",
    "    data_i.append(fitted.alpha)\n",
    "    data_i.append(fitted.xmin)\n",
    "    data.append(data_i)"
   ]
  },
  {
   "cell_type": "code",
   "execution_count": 76,
   "metadata": {},
   "outputs": [
    {
     "name": "stdout",
     "output_type": "stream",
     "text": [
      "\\begin{tabular}{lrrrrr}\n",
      "\\toprule\n",
      "{} &  $| V |$ &  $| E |$ &  $\\overline{c}$ &  $\\gamma$ &  xmin \\\\\n",
      "\\midrule\n",
      "0 &    37905 &   165374 &        0.222225 &  2.407465 &   8.0 \\\\\n",
      "1 &    35625 &   157917 &        0.233024 &  2.381923 &   8.0 \\\\\n",
      "2 &     1386 &    11412 &        0.779170 &  2.552826 &   8.0 \\\\\n",
      "\\bottomrule\n",
      "\\end{tabular}\n",
      "\n"
     ]
    }
   ],
   "source": [
    "df = pd.DataFrame(data)\n",
    "df.columns = ['$| V |$', '$| E |$', '$\\overline{c}$', '$\\gamma$', 'xmin']\n",
    "print df.to_latex(escape=False)"
   ]
  },
  {
   "cell_type": "markdown",
   "metadata": {},
   "source": [
    "# Analysis"
   ]
  },
  {
   "cell_type": "markdown",
   "metadata": {},
   "source": [
    "### How many of the targeted latam ases are present in an edge?"
   ]
  },
  {
   "cell_type": "code",
   "execution_count": 47,
   "metadata": {
    "collapsed": true
   },
   "outputs": [],
   "source": [
    "both_as = [G_as_caida, G_as_cuca]\n",
    "used_both = [intersection_caida_all, intersection_cuca_all]"
   ]
  },
  {
   "cell_type": "code",
   "execution_count": 48,
   "metadata": {},
   "outputs": [
    {
     "name": "stdout",
     "output_type": "stream",
     "text": [
      "1.0\n",
      "1.0\n"
     ]
    }
   ],
   "source": [
    "for i,G in enumerate(both_as):\n",
    "    print len(set(G.nodes()).intersection(used_both[i])) / len(used_both[i])"
   ]
  },
  {
   "cell_type": "markdown",
   "metadata": {},
   "source": [
    "### How many latam - latam edges where found?"
   ]
  },
  {
   "cell_type": "code",
   "execution_count": 49,
   "metadata": {},
   "outputs": [
    {
     "name": "stdout",
     "output_type": "stream",
     "text": [
      "5403\n",
      "9708\n"
     ]
    }
   ],
   "source": [
    "latam_edges_both = [set(),set()]\n",
    "for i,G in enumerate(both_as):\n",
    "    for v1, v2 in G.edges():\n",
    "        if v1 in latam_asn and v2 in latam_asn:\n",
    "            latam_edges_both[i].add(tuple(sorted([v1,v2])))\n",
    "    print len(latam_edges_both[i])"
   ]
  },
  {
   "cell_type": "markdown",
   "metadata": {},
   "source": [
    "## How related are both graph edges?"
   ]
  },
  {
   "cell_type": "code",
   "execution_count": 50,
   "metadata": {},
   "outputs": [
    {
     "name": "stdout",
     "output_type": "stream",
     "text": [
      "2703\n"
     ]
    }
   ],
   "source": [
    "in_both = latam_edges_both[0].intersection(latam_edges_both[1])\n",
    "print len(in_both)"
   ]
  },
  {
   "cell_type": "code",
   "execution_count": 51,
   "metadata": {},
   "outputs": [
    {
     "name": "stdout",
     "output_type": "stream",
     "text": [
      "7005\n"
     ]
    }
   ],
   "source": [
    "only_cuca = latam_edges_both[1].difference(latam_edges_both[0])\n",
    "print len(only_cuca)"
   ]
  },
  {
   "cell_type": "code",
   "execution_count": 52,
   "metadata": {
    "scrolled": true
   },
   "outputs": [
    {
     "name": "stdout",
     "output_type": "stream",
     "text": [
      "2700\n"
     ]
    }
   ],
   "source": [
    "only_caida = latam_edges_both[0].difference(latam_edges_both[1])\n",
    "print len(only_caida)"
   ]
  },
  {
   "cell_type": "markdown",
   "metadata": {},
   "source": [
    "#### How many discovered in caida could have been discovered because both asn where targets but where not?"
   ]
  },
  {
   "cell_type": "code",
   "execution_count": 53,
   "metadata": {},
   "outputs": [
    {
     "name": "stdout",
     "output_type": "stream",
     "text": [
      "1099\n"
     ]
    }
   ],
   "source": [
    "count = 0\n",
    "for (v1,v2) in only_caida:\n",
    "    if (v1 in intersection_cuca_all) and (v2 in intersection_cuca_all):\n",
    "        count = count + 1\n",
    "print count"
   ]
  },
  {
   "cell_type": "markdown",
   "metadata": {},
   "source": [
    "#### How many edges discovered in cuca but not in caida where in ases targeted by caida?"
   ]
  },
  {
   "cell_type": "code",
   "execution_count": 54,
   "metadata": {},
   "outputs": [
    {
     "name": "stdout",
     "output_type": "stream",
     "text": [
      "0.995431834404\n"
     ]
    }
   ],
   "source": [
    "count = 0\n",
    "for (v1,v2) in only_cuca:\n",
    "    if (v1 in intersection_caida_all) and (v2 in intersection_caida_all):\n",
    "        count = count + 1\n",
    "print count / len(only_cuca)"
   ]
  },
  {
   "cell_type": "code",
   "execution_count": null,
   "metadata": {
    "collapsed": true
   },
   "outputs": [],
   "source": []
  },
  {
   "cell_type": "markdown",
   "metadata": {},
   "source": [
    "### Trying to find why the results wheren't not so good"
   ]
  },
  {
   "cell_type": "code",
   "execution_count": 117,
   "metadata": {},
   "outputs": [
    {
     "data": {
      "text/plain": [
       "8893176"
      ]
     },
     "execution_count": 117,
     "metadata": {},
     "output_type": "execute_result"
    }
   ],
   "source": [
    "used_asn_caida_count = []\n",
    "for x in caida_t:\n",
    "    try:\n",
    "        used_asn_caida_count.append(pyt.get_key(x))\n",
    "    except:\n",
    "        pass\n",
    "    \n",
    "len(used_asn_caida_count)"
   ]
  },
  {
   "cell_type": "code",
   "execution_count": 119,
   "metadata": {},
   "outputs": [
    {
     "data": {
      "text/plain": [
       "20741"
      ]
     },
     "execution_count": 119,
     "metadata": {},
     "output_type": "execute_result"
    }
   ],
   "source": [
    "used_asn_cuca_count = []\n",
    "for x in targets:\n",
    "    try:\n",
    "        used_asn_cuca_count.append(pyt.get_key(x))\n",
    "    except:\n",
    "        pass\n",
    "    \n",
    "len(used_asn_cuca_count)"
   ]
  },
  {
   "cell_type": "code",
   "execution_count": 120,
   "metadata": {
    "collapsed": true
   },
   "outputs": [],
   "source": [
    "caida_prefix_count = collections.Counter(used_asn_caida_count)\n",
    "cuca_prefix_count = collections.Counter(used_asn_cuca_count)"
   ]
  },
  {
   "cell_type": "code",
   "execution_count": 110,
   "metadata": {
    "collapsed": true
   },
   "outputs": [],
   "source": [
    "cuca_count = []\n",
    "for x,y in lat_pref:\n",
    "    cuca_count.append(cuca_prefix_count[x.with_prefixlen])"
   ]
  },
  {
   "cell_type": "code",
   "execution_count": 111,
   "metadata": {
    "collapsed": true
   },
   "outputs": [],
   "source": [
    "caida_count = []\n",
    "for x,y in lat_pref:\n",
    "    caida_count.append(caida_prefix_count[x.with_prefixlen])"
   ]
  },
  {
   "cell_type": "code",
   "execution_count": 129,
   "metadata": {},
   "outputs": [
    {
     "name": "stdout",
     "output_type": "stream",
     "text": [
      "Cant caida:  1210942  mean:  188.385500933  sdev:  103.826066146\n",
      "Cant cuca:  20226  mean:  3.14654635968  sdev:  55.4098015111\n"
     ]
    }
   ],
   "source": [
    "cc = np.array(caida_count)\n",
    "cu = np.array(cuca_count)\n",
    "print 'Cant caida: ', sum(cc), ' mean: ', cc.mean(), ' sdev: ', cc.std()\n",
    "print 'Cant cuca: ',  sum(cu), ' mean: ', cu.mean(), ' sdev: ', cu.std()"
   ]
  },
  {
   "cell_type": "code",
   "execution_count": null,
   "metadata": {
    "collapsed": true
   },
   "outputs": [],
   "source": []
  },
  {
   "cell_type": "markdown",
   "metadata": {},
   "source": [
    "## Export Data"
   ]
  },
  {
   "cell_type": "code",
   "execution_count": 56,
   "metadata": {
    "collapsed": true
   },
   "outputs": [],
   "source": [
    "nx.write_edgelist(G=G_as_cuca,path='cuca_as.edgelist')"
   ]
  },
  {
   "cell_type": "code",
   "execution_count": null,
   "metadata": {
    "collapsed": true
   },
   "outputs": [],
   "source": []
  },
  {
   "cell_type": "code",
   "execution_count": null,
   "metadata": {
    "collapsed": true
   },
   "outputs": [],
   "source": []
  },
  {
   "cell_type": "code",
   "execution_count": 103,
   "metadata": {
    "collapsed": true
   },
   "outputs": [],
   "source": [
    "nx.write_edgelist(path='edgelist.cuca',G=G_as_cuca)"
   ]
  },
  {
   "cell_type": "code",
   "execution_count": 104,
   "metadata": {
    "collapsed": true
   },
   "outputs": [],
   "source": [
    "nx.write_edgelist(path='edgelist.caida',G=G_as_caida)"
   ]
  },
  {
   "cell_type": "code",
   "execution_count": null,
   "metadata": {
    "collapsed": true
   },
   "outputs": [],
   "source": []
  }
 ],
 "metadata": {
  "kernelspec": {
   "display_name": "Python 2",
   "language": "python",
   "name": "python2"
  },
  "language_info": {
   "codemirror_mode": {
    "name": "ipython",
    "version": 2
   },
   "file_extension": ".py",
   "mimetype": "text/x-python",
   "name": "python",
   "nbconvert_exporter": "python",
   "pygments_lexer": "ipython2",
   "version": "2.7.13"
  }
 },
 "nbformat": 4,
 "nbformat_minor": 2
}
