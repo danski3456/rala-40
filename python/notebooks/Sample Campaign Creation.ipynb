{
 "cells": [
  {
   "cell_type": "code",
   "execution_count": 4,
   "metadata": {
    "collapsed": true
   },
   "outputs": [],
   "source": [
    "%matplotlib inline\n",
    "import pandas as pd\n",
    "import seaborn as sns\n",
    "import timeit\n",
    "import collections\n",
    "import itertools\n",
    "import matplotlib.pyplot as plt\n",
    "from ripe_interface import (\n",
    "    save_campaign,\n",
    "    targets_to_dict,\n",
    "    probes_to_dict,\n",
    "    report_status,\n",
    "    get_db,\n",
    "    get_probes,\n",
    "    scheduler,\n",
    "    kill_all\n",
    ")\n",
    "from constants import blacklist\n",
    "from ripe.atlas.sagan import traceroute\n",
    "from pymongo.errors import BulkWriteError"
   ]
  },
  {
   "cell_type": "markdown",
   "metadata": {},
   "source": [
    "# Select the name of the measurement"
   ]
  },
  {
   "cell_type": "code",
   "execution_count": 5,
   "metadata": {
    "collapsed": true
   },
   "outputs": [],
   "source": [
    "MEASUREMENT_NAME = 'sample01'  # Name of the database which will store the campagin"
   ]
  },
  {
   "cell_type": "code",
   "execution_count": 6,
   "metadata": {
    "collapsed": true
   },
   "outputs": [],
   "source": [
    "default_dir = '../../home/app/data/'"
   ]
  },
  {
   "cell_type": "code",
   "execution_count": 7,
   "metadata": {
    "collapsed": true
   },
   "outputs": [],
   "source": [
    "REAL_RUN = False"
   ]
  },
  {
   "cell_type": "markdown",
   "metadata": {},
   "source": [
    "## Set a new database for the measurement"
   ]
  },
  {
   "cell_type": "code",
   "execution_count": 8,
   "metadata": {
    "collapsed": true
   },
   "outputs": [],
   "source": [
    "db = get_db(MEASUREMENT_NAME)"
   ]
  },
  {
   "cell_type": "markdown",
   "metadata": {},
   "source": [
    "### Get all probes with ipv6 and sample for measurement"
   ]
  },
  {
   "cell_type": "markdown",
   "metadata": {},
   "source": [
    "A new probes data frame is created by appending the selected probes"
   ]
  },
  {
   "cell_type": "code",
   "execution_count": 9,
   "metadata": {},
   "outputs": [],
   "source": [
    "if db.probes.find({}).count() == 0:  # Don't send request again if probres are in db\n",
    "    df = get_probes(clean=True)\n",
    "    df.reset_index(level=0, inplace=True)\n",
    "    df = df[~df.id.isin(blacklist)] # Exclude bad probes\n",
    "    probes = (\n",
    "        pd.DataFrame()\n",
    "        .append(df[df.rir == 'AFRINIC'].sample(2, random_state=1), ignore_index=True)\n",
    "        .append(df[df.rir == 'ARIN'].sample(2, random_state=1), ignore_index=True)\n",
    "        .append(df[df.rir == 'RIPE NCC'].sample(2, random_state=1), ignore_index=True)\n",
    "        .append(df[(df.rir == 'APNIC') & (df.cc != 'JP')].sample(1, random_state=1), ignore_index=True)\n",
    "        .append(df[df.cc == 'JP'].sample(1, random_state=1), ignore_index=True)\n",
    "        .append(df[df.rir == 'LACNIC'], ignore_index=True)\n",
    "    )\n",
    "\n",
    "    probes = probes[~probes.id.isin(probes[probes.cc == 'BR'].sample(10, random_state=1).id.tolist())] # Remove some brazilian probes\n",
    "    probes.reset_index(drop=True, inplace=True) # renumber index\n",
    "else:\n",
    "    probes = pd.DataFrame(list(db.probes.find()))\n",
    "    probes = probes.set_index('id')\n",
    "    probes.reset_index(level=0, inplace=True)"
   ]
  },
  {
   "cell_type": "markdown",
   "metadata": {},
   "source": [
    "## List of selected probes"
   ]
  },
  {
   "cell_type": "code",
   "execution_count": 10,
   "metadata": {},
   "outputs": [
    {
     "data": {
      "text/html": [
       "<div>\n",
       "<style>\n",
       "    .dataframe thead tr:only-child th {\n",
       "        text-align: right;\n",
       "    }\n",
       "\n",
       "    .dataframe thead th {\n",
       "        text-align: left;\n",
       "    }\n",
       "\n",
       "    .dataframe tbody tr th {\n",
       "        vertical-align: top;\n",
       "    }\n",
       "</style>\n",
       "<table border=\"1\" class=\"dataframe\">\n",
       "  <thead>\n",
       "    <tr style=\"text-align: right;\">\n",
       "      <th></th>\n",
       "      <th>id</th>\n",
       "      <th>_id</th>\n",
       "      <th>address</th>\n",
       "      <th>asn</th>\n",
       "      <th>cc</th>\n",
       "      <th>prefix</th>\n",
       "      <th>rir</th>\n",
       "    </tr>\n",
       "  </thead>\n",
       "  <tbody>\n",
       "    <tr>\n",
       "      <th>0</th>\n",
       "      <td>25283</td>\n",
       "      <td>59c9b4772249f80023e5e84b</td>\n",
       "      <td>2c0f:feb0:c:1::8</td>\n",
       "      <td>37100.0</td>\n",
       "      <td>ZA</td>\n",
       "      <td>2c0f:feb0::/32</td>\n",
       "      <td>AFRINIC</td>\n",
       "    </tr>\n",
       "    <tr>\n",
       "      <th>1</th>\n",
       "      <td>11327</td>\n",
       "      <td>59c9b4772249f80023e5e84c</td>\n",
       "      <td>2c0f:fbf0:11:0:fa1a:67ff:fe4d:836e</td>\n",
       "      <td>32653.0</td>\n",
       "      <td>ZA</td>\n",
       "      <td>2c0f:fbf0::/28</td>\n",
       "      <td>AFRINIC</td>\n",
       "    </tr>\n",
       "    <tr>\n",
       "      <th>2</th>\n",
       "      <td>10584</td>\n",
       "      <td>59c9b4772249f80023e5e84d</td>\n",
       "      <td>2601:989:4100:327:a2f3:c1ff:fec4:4f32</td>\n",
       "      <td>7922.0</td>\n",
       "      <td>US</td>\n",
       "      <td>2601::/20</td>\n",
       "      <td>ARIN</td>\n",
       "    </tr>\n",
       "    <tr>\n",
       "      <th>3</th>\n",
       "      <td>26758</td>\n",
       "      <td>59c9b4772249f80023e5e84e</td>\n",
       "      <td>2600:7400:1400:0:c66e:1fff:fe5b:eb02</td>\n",
       "      <td>29933.0</td>\n",
       "      <td>US</td>\n",
       "      <td>2600:7400::/28</td>\n",
       "      <td>ARIN</td>\n",
       "    </tr>\n",
       "    <tr>\n",
       "      <th>4</th>\n",
       "      <td>33448</td>\n",
       "      <td>59c9b4772249f80023e5e84f</td>\n",
       "      <td>2a01:e35:8b5a:61c0:d66e:eff:fe23:50e8</td>\n",
       "      <td>12322.0</td>\n",
       "      <td>FR</td>\n",
       "      <td>2a01:e00::/26</td>\n",
       "      <td>RIPE NCC</td>\n",
       "    </tr>\n",
       "  </tbody>\n",
       "</table>\n",
       "</div>"
      ],
      "text/plain": [
       "      id                       _id                                address  \\\n",
       "0  25283  59c9b4772249f80023e5e84b                       2c0f:feb0:c:1::8   \n",
       "1  11327  59c9b4772249f80023e5e84c     2c0f:fbf0:11:0:fa1a:67ff:fe4d:836e   \n",
       "2  10584  59c9b4772249f80023e5e84d  2601:989:4100:327:a2f3:c1ff:fec4:4f32   \n",
       "3  26758  59c9b4772249f80023e5e84e   2600:7400:1400:0:c66e:1fff:fe5b:eb02   \n",
       "4  33448  59c9b4772249f80023e5e84f  2a01:e35:8b5a:61c0:d66e:eff:fe23:50e8   \n",
       "\n",
       "       asn  cc          prefix       rir  \n",
       "0  37100.0  ZA  2c0f:feb0::/32   AFRINIC  \n",
       "1  32653.0  ZA  2c0f:fbf0::/28   AFRINIC  \n",
       "2   7922.0  US       2601::/20      ARIN  \n",
       "3  29933.0  US  2600:7400::/28      ARIN  \n",
       "4  12322.0  FR   2a01:e00::/26  RIPE NCC  "
      ]
     },
     "execution_count": 10,
     "metadata": {},
     "output_type": "execute_result"
    }
   ],
   "source": [
    "probes.head()"
   ]
  },
  {
   "cell_type": "code",
   "execution_count": 11,
   "metadata": {},
   "outputs": [
    {
     "data": {
      "text/plain": [
       "<matplotlib.text.Text at 0x7fb7f13fee90>"
      ]
     },
     "execution_count": 11,
     "metadata": {},
     "output_type": "execute_result"
    },
    {
     "data": {
      "image/png": "[encoded data removed]",
      "text/plain": [
       "<matplotlib.figure.Figure at 0x7fb7f1361610>"
      ]
     },
     "metadata": {},
     "output_type": "display_data"
    }
   ],
   "source": [
    "fig, ax = plt.subplots()\n",
    "fig.set_size_inches(11,8)\n",
    "sns.countplot(x='cc', data=probes, ax=ax)\n",
    "ax.set_title('Number of probes per country')\n",
    "ax.set_ylabel('#Probes')\n",
    "ax.set_xlabel('Country')"
   ]
  },
  {
   "cell_type": "markdown",
   "metadata": {},
   "source": [
    "## Save probes to database"
   ]
  },
  {
   "cell_type": "code",
   "execution_count": null,
   "metadata": {},
   "outputs": [],
   "source": [
    "try:\n",
    "    db.probes.insert_many(probes.to_dict(orient=\"records\"))\n",
    "except BulkWriteError:\n",
    "    pass\n",
    "print 'Probes in database: ', db.probes.find({}).count()"
   ]
  },
  {
   "cell_type": "markdown",
   "metadata": {},
   "source": [
    "### Select some random IPv6 in LATAM to hit"
   ]
  },
  {
   "cell_type": "code",
   "execution_count": null,
   "metadata": {},
   "outputs": [],
   "source": [
    "with open(default_dir + 'final_hitlist.csv', 'r') as f:\n",
    "    hitlist = []\n",
    "    while len(hitlist) < 2: # Some some hitlist\n",
    "        l = f.readline().strip()\n",
    "        hitlist.append(l)"
   ]
  },
  {
   "cell_type": "code",
   "execution_count": null,
   "metadata": {},
   "outputs": [],
   "source": [
    "hitlist"
   ]
  },
  {
   "cell_type": "markdown",
   "metadata": {},
   "source": [
    "## Start creating campaing"
   ]
  },
  {
   "cell_type": "markdown",
   "metadata": {},
   "source": [
    "#### Begin by creating probes list"
   ]
  },
  {
   "cell_type": "code",
   "execution_count": null,
   "metadata": {
    "scrolled": true
   },
   "outputs": [],
   "source": [
    "probes_to_use = probes_to_dict(probes.id.tolist())\n",
    "print 'Example dict: ', probes_to_use[0]\n",
    "print 'Probes to use: ', len(probes_to_use)"
   ]
  },
  {
   "cell_type": "markdown",
   "metadata": {},
   "source": [
    "#### Then create hitlist dicts"
   ]
  },
  {
   "cell_type": "code",
   "execution_count": null,
   "metadata": {},
   "outputs": [],
   "source": [
    "ips_to_dict = targets_to_dict([x.decode('unicode-escape') for x in hitlist])\n",
    "print ips_to_dict[0]"
   ]
  },
  {
   "cell_type": "code",
   "execution_count": null,
   "metadata": {},
   "outputs": [],
   "source": [
    "report_status(db) # Status of database before creation of campaing"
   ]
  },
  {
   "cell_type": "markdown",
   "metadata": {},
   "source": [
    "Because each descriptor holds 50 probes, we except to have only 5 descriptors"
   ]
  },
  {
   "cell_type": "code",
   "execution_count": null,
   "metadata": {},
   "outputs": [],
   "source": [
    "save_campaign(target_list=ips_to_dict,\n",
    "             probe_list=probes_to_use,\n",
    "              db=db,\n",
    "             tag='LATAM01',\n",
    "             description='Using 5 real ips and all latam probes')"
   ]
  },
  {
   "cell_type": "markdown",
   "metadata": {},
   "source": [
    "It returns all errors, so empty is good :)\n",
    "\n",
    "We check the status of our database and everything is allright"
   ]
  },
  {
   "cell_type": "code",
   "execution_count": null,
   "metadata": {
    "scrolled": true
   },
   "outputs": [],
   "source": [
    "report_status(db)"
   ]
  },
  {
   "cell_type": "code",
   "execution_count": null,
   "metadata": {
    "collapsed": true
   },
   "outputs": [],
   "source": [
    "TOTAL = db.campaign_descriptor.find({'status':'waiting'}).count()"
   ]
  },
  {
   "cell_type": "code",
   "execution_count": null,
   "metadata": {},
   "outputs": [],
   "source": [
    "if REAL_RUN:\n",
    "    if (db.campaign_descriptor.find({'status':'waiting'}).count() == 0 and \n",
    "       db.campaign_descriptor.find({'status':'ongoing'}).count() == 0):\n",
    "        print 'Campaing finished'\n",
    "    else:\n",
    "        start_time = timeit.default_timer()\n",
    "        for i in itertools.count():\n",
    "            scheduler(db,wait_time=5,sleep_time=1)\n",
    "            if db.campaign_descriptor.find({'status':'finished'}).count() == TOTAL:\n",
    "                break\n",
    "        endtime = timeit.default_timer() - start_time\n",
    "        print endtime"
   ]
  },
  {
   "cell_type": "markdown",
   "metadata": {},
   "source": [
    "## Get results statistics"
   ]
  },
  {
   "cell_type": "code",
   "execution_count": null,
   "metadata": {},
   "outputs": [],
   "source": [
    "db.results.find().count()"
   ]
  },
  {
   "cell_type": "markdown",
   "metadata": {},
   "source": [
    "Get list of results:"
   ]
  },
  {
   "cell_type": "code",
   "execution_count": null,
   "metadata": {
    "collapsed": true
   },
   "outputs": [],
   "source": [
    "result_list = list(db.results.find())\n",
    "processed_results = [traceroute.TracerouteResult(x) for x in result_list]"
   ]
  },
  {
   "cell_type": "markdown",
   "metadata": {},
   "source": [
    "Augment probes dataframe with new responses:"
   ]
  },
  {
   "cell_type": "code",
   "execution_count": null,
   "metadata": {
    "collapsed": true
   },
   "outputs": [],
   "source": [
    "counted_responses = collections.Counter([x.origin for x in processed_results if not x.is_error])\n",
    "probes['responses'] = probes['address'].map(counted_responses)"
   ]
  },
  {
   "cell_type": "code",
   "execution_count": null,
   "metadata": {},
   "outputs": [],
   "source": [
    "blacklist = probes[probes.responses < 2].id.tolist()\n",
    "print blacklist"
   ]
  },
  {
   "cell_type": "markdown",
   "metadata": {},
   "source": [
    "Plot diferences with original data:"
   ]
  },
  {
   "cell_type": "code",
   "execution_count": null,
   "metadata": {},
   "outputs": [],
   "source": [
    "fig, ax = plt.subplots()\n",
    "fig.set_size_inches(11,8)\n",
    "sns.countplot(x='cc', data=probes, ax=ax, color='red', label='All')\n",
    "sns.countplot(x='cc', data=probes[probes.responses > 0], ax=ax, color='green', label='Working')\n",
    "ax.set_title('Number of probes per country')\n",
    "ax.set_ylabel('#Probes')\n",
    "ax.set_xlabel('Country')"
   ]
  },
  {
   "cell_type": "markdown",
   "metadata": {},
   "source": [
    "### Create dataframe to study tracerotues"
   ]
  },
  {
   "cell_type": "code",
   "execution_count": null,
   "metadata": {
    "collapsed": true
   },
   "outputs": [],
   "source": [
    "df_traceroutes = pd.DataFrame(result_list)\n",
    "df_traceroutes['hops'] = df_traceroutes['result'].map(lambda x: len(x))\n",
    "df_traceroutes.drop([u'size',\n",
    "                  u'timestamp',\n",
    "                  u'type',\n",
    "                  u'group_id',\n",
    "                  u'msm_id',\n",
    "                  u'msm_name',\n",
    "                  u'paris_id',\n",
    "                  u'fw',\n",
    "                  u'af',\n",
    "                  u'endtime',\n",
    "                  u'dst_name',\n",
    "                  u'proto',\n",
    "                  u'lts',\n",
    "                  u'result'\n",
    "                 ],\n",
    "                 1,\n",
    "                 inplace=True\n",
    "                )"
   ]
  },
  {
   "cell_type": "code",
   "execution_count": null,
   "metadata": {},
   "outputs": [],
   "source": [
    "df_traceroutes.head()"
   ]
  },
  {
   "cell_type": "code",
   "execution_count": null,
   "metadata": {},
   "outputs": [],
   "source": [
    "sns.countplot(x='hops',data=df_traceroutes)"
   ]
  },
  {
   "cell_type": "code",
   "execution_count": null,
   "metadata": {
    "collapsed": true
   },
   "outputs": [],
   "source": []
  }
 ],
 "metadata": {
  "kernelspec": {
   "display_name": "Python 2",
   "language": "python",
   "name": "python2"
  },
  "language_info": {
   "codemirror_mode": {
    "name": "ipython",
    "version": 2
   },
   "file_extension": ".py",
   "mimetype": "text/x-python",
   "name": "python",
   "nbconvert_exporter": "python",
   "pygments_lexer": "ipython2",
   "version": "2.7.13"
  }
 },
 "nbformat": 4,
 "nbformat_minor": 2
}
