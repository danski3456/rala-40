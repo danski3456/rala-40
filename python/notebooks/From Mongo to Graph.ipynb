{
 "cells": [
  {
   "cell_type": "code",
   "execution_count": 2,
   "metadata": {
    "collapsed": true
   },
   "outputs": [],
   "source": [
    "%matplotlib inline\n",
    "from __future__ import division\n",
    "import pandas as pd\n",
    "import seaborn as sns\n",
    "import networkx as nx\n",
    "import numpy as np\n",
    "import itertools\n",
    "import os\n",
    "import matplotlib.pyplot as plt\n",
    "from ripe_interface import get_db\n",
    "from process_big_traceroutes import big_process, non_responsive_generator\n",
    "from mappings import get_country, get_asn\n",
    "from ripe.atlas.sagan.traceroute import TracerouteResult"
   ]
  },
  {
   "cell_type": "markdown",
   "metadata": {},
   "source": [
    "## Get the appropiate databse"
   ]
  },
  {
   "cell_type": "code",
   "execution_count": 3,
   "metadata": {
    "collapsed": true
   },
   "outputs": [],
   "source": [
    "db = get_db('rala-40')"
   ]
  },
  {
   "cell_type": "markdown",
   "metadata": {},
   "source": [
    "### Set the default directory: \"data\""
   ]
  },
  {
   "cell_type": "code",
   "execution_count": 4,
   "metadata": {
    "collapsed": true
   },
   "outputs": [],
   "source": [
    "default_dir = '../../home/app/data/'"
   ]
  },
  {
   "cell_type": "markdown",
   "metadata": {},
   "source": [
    "### Set the file where traces are going to be saved"
   ]
  },
  {
   "cell_type": "code",
   "execution_count": 5,
   "metadata": {
    "collapsed": true
   },
   "outputs": [],
   "source": [
    "WRITE_TRACE_FILE = default_dir + 'sample.traces'"
   ]
  },
  {
   "cell_type": "markdown",
   "metadata": {},
   "source": [
    "### Read from the database, each result and write it, csv in WRITE_TRACE_FILE"
   ]
  },
  {
   "cell_type": "code",
   "execution_count": 9,
   "metadata": {
    "collapsed": true
   },
   "outputs": [],
   "source": [
    "non_gen = non_responsive_generator()\n",
    "with open(WRITE_TRACE_FILE, \"w\") as f:                                    \n",
    "    count = 0                                                           \n",
    "    for r in db.results.find({}): \n",
    "        count = count + 1\n",
    "        if count == 10:  # Comment this to get all of results\n",
    "            break  # Also this\n",
    "        tr = TracerouteResult(r)                               \n",
    "        y = big_process(tr,non_gen,add_first=False, keep_last=False, keep_none=False)\n",
    "        f.write(\"H,{},{}\\n\".format(tr.origin, tr.destination_address))  \n",
    "        for i,x in enumerate(y):                                      \n",
    "            if x is not None and x.ip is not None:\n",
    "                f.write(\"B,{},{},{},{}\\n\".format(i,str(x.ip),x.pack.rtt, x.pack.ttl))                                                           "
   ]
  },
  {
   "cell_type": "markdown",
   "metadata": {},
   "source": [
    "### Read the written file and for each couple of consecutive lines infere a link (useful if not keeping first,last)"
   ]
  },
  {
   "cell_type": "code",
   "execution_count": 7,
   "metadata": {
    "collapsed": true
   },
   "outputs": [],
   "source": [
    "links = []  \n",
    "with open(WRITE_TRACE_FILE, \"r\") as f:  \n",
    "    ini, fin = None, None\n",
    "    line1, line2 = itertools.tee(f)\n",
    "    next(line2)\n",
    "    for x,y in zip(line1,line2):\n",
    "        l1, l2 = x.strip(), y.strip()\n",
    "        if l1[0] == \"B\" and l2[0] == \"B\":                 \n",
    "            _, pos1, ip1, rtt1, ttl1 = l1.split(\",\")       \n",
    "            _, pos2, ip2, rtt2, ttl2 = l2.split(\",\")              \n",
    "            links.append((ip1,ip2))"
   ]
  },
  {
   "cell_type": "code",
   "execution_count": 10,
   "metadata": {
    "collapsed": true
   },
   "outputs": [],
   "source": [
    "links = []  \n",
    "with open(WRITE_TRACE_FILE, \"r\") as f:  \n",
    "    ini, fin = None, None\n",
    "    for l in f:\n",
    "        line1 = l.strip()\n",
    "        if line1[0] == \"H\":\n",
    "            if ini is not None:\n",
    "                links.append((ini,fin))\n",
    "\n",
    "            _, ini, fin = line1.split(\",\")\n",
    "        else:             \n",
    "            _, pos1, ip1, rtt1, ttl1 = line1.split(\",\")         \n",
    "            links.append((ini,ip1))\n",
    "            ini = ip1"
   ]
  },
  {
   "cell_type": "code",
   "execution_count": 11,
   "metadata": {},
   "outputs": [
    {
     "data": {
      "text/plain": [
       "[('2800:a4:1400:6b00:a2f3:c1ff:fec4:4900',\n",
       "  '2800:a4:1400:6b01:8ee1:17ff:fefe:1ec6'),\n",
       " ('2800:a4:1400:6b01:8ee1:17ff:fefe:1ec6', '2800:a0:301:c828:a10c:1f00:0:c'),\n",
       " ('2800:a0:301:c828:a10c:1f00:0:c', '2001:12f8::220:19'),\n",
       " ('2001:12f8::220:19', '2001:12f8::217:48'),\n",
       " ('2001:12f8::217:48', '2001:1291:0:53::b'),\n",
       " ('2001:1291:0:53::b', '2001:1291:0:15b::a'),\n",
       " ('2001:1291:0:15b::a', '2001:1291:0:100::b'),\n",
       " ('2001:1291:0:100::b', '2001:1291:0:74::b'),\n",
       " ('2001:1291:0:74::b', '2001:1291:1601:37::b'),\n",
       " ('2001:1318:400:0:6666:b3ff:feb0:d110', '2001:1318:400::1'),\n",
       " ('2001:1318:400::1', '2001:1318::9'),\n",
       " ('2001:1318::9', '2001:1318::5'),\n",
       " ('2001:1318::5', '2800:c30:b5d1::81'),\n",
       " ('2800:c30:b5d1::81', '2001:450:2002:802::2'),\n",
       " ('2001:450:2002:802::2', '2001:450:2002:802::1'),\n",
       " ('2001:450:2002:802::1', '2001:450:2001:1000:0:670:1708:3080'),\n",
       " ('2001:450:2001:1000:0:670:1708:3080', '2804:4c0:ffff:fc7f::2'),\n",
       " ('2804:4c0:ffff:fc7f::2', '2001:1291:0:150::b'),\n",
       " ('2001:1291:0:150::b', '2001:1291:0:138::b'),\n",
       " ('2001:1291:0:138::b', '2001:1291:0:5b::a')]"
      ]
     },
     "execution_count": 11,
     "metadata": {},
     "output_type": "execute_result"
    }
   ],
   "source": [
    "links[:20]"
   ]
  },
  {
   "cell_type": "markdown",
   "metadata": {},
   "source": [
    "### Write links to file"
   ]
  },
  {
   "cell_type": "code",
   "execution_count": 16,
   "metadata": {
    "collapsed": true
   },
   "outputs": [],
   "source": [
    "with open(default_dir+'sample.links', 'w') as f:\n",
    "    for (v1,v2) in links:\n",
    "        f.write('{},{}\\n'.format(v1,v2))"
   ]
  },
  {
   "cell_type": "markdown",
   "metadata": {
    "collapsed": true
   },
   "source": [
    "## Create graph from links"
   ]
  },
  {
   "cell_type": "code",
   "execution_count": 10,
   "metadata": {
    "collapsed": true
   },
   "outputs": [],
   "source": [
    "G = nx.Graph()\n",
    "G.add_edges_from(links)"
   ]
  },
  {
   "cell_type": "markdown",
   "metadata": {},
   "source": [
    "#### Compute some basic properties "
   ]
  },
  {
   "cell_type": "code",
   "execution_count": 14,
   "metadata": {},
   "outputs": [
    {
     "name": "stdout",
     "output_type": "stream",
     "text": [
      "Number of nodes: 63\n",
      "Number of edges: 56\n"
     ]
    }
   ],
   "source": [
    "print 'Number of nodes:', G.number_of_nodes()\n",
    "print 'Number of edges:', G.number_of_edges()"
   ]
  },
  {
   "cell_type": "markdown",
   "metadata": {},
   "source": [
    "### Alternativly load them from the saved file"
   ]
  },
  {
   "cell_type": "code",
   "execution_count": 17,
   "metadata": {
    "collapsed": true
   },
   "outputs": [],
   "source": [
    "with open(default_dir+'sample.links', 'r') as f: G2 = nx.read_edgelist(f, delimiter=',')"
   ]
  },
  {
   "cell_type": "code",
   "execution_count": 19,
   "metadata": {},
   "outputs": [
    {
     "data": {
      "text/plain": [
       "True"
      ]
     },
     "execution_count": 19,
     "metadata": {},
     "output_type": "execute_result"
    }
   ],
   "source": [
    "nx.is_isomorphic(G,G2)  # They are the same graph"
   ]
  },
  {
   "cell_type": "code",
   "execution_count": null,
   "metadata": {
    "collapsed": true
   },
   "outputs": [],
   "source": []
  }
 ],
 "metadata": {
  "kernelspec": {
   "display_name": "Python 2",
   "language": "python",
   "name": "python2"
  },
  "language_info": {
   "codemirror_mode": {
    "name": "ipython",
    "version": 2
   },
   "file_extension": ".py",
   "mimetype": "text/x-python",
   "name": "python",
   "nbconvert_exporter": "python",
   "pygments_lexer": "ipython2",
   "version": "2.7.13"
  }
 },
 "nbformat": 4,
 "nbformat_minor": 2
}
